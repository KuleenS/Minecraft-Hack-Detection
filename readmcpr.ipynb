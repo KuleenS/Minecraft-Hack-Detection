{
 "cells": [
  {
   "cell_type": "code",
   "execution_count": 13,
   "metadata": {},
   "outputs": [],
   "source": [
    "import struct\n",
    "import json "
   ]
  },
  {
   "cell_type": "code",
   "execution_count": 14,
   "metadata": {},
   "outputs": [],
   "source": [
    "class Packet:\n",
    "    def __init__(self, timestamp, length, bytearray, id=None, type=None):\n",
    "        self.timestamp = timestamp\n",
    "        self.length = length\n",
    "        self.bytearray = bytearray\n",
    "        self.id = id\n",
    "        self.type = type\n",
    "    def __repr__(self) -> str:\n",
    "        return f'Packet of type: {self.type} with id {self.id} starting at {self.timestamp} with a bytearray {self.bytearray} of length {self.length}'"
   ]
  },
  {
   "cell_type": "code",
   "execution_count": 15,
   "metadata": {},
   "outputs": [],
   "source": [
    "packets = []\n",
    "#open byte file\n",
    "#read in packet data\n",
    "#structure: timestamp(integer) length(integer) packet(bytearray)\n",
    "with open(\"./data/2021_05_02_22_04_36_1/recording.tmcpr\", \"rb\") as f:\n",
    "    while timestamp := f.read(4):\n",
    "        timestamp = struct.unpack('>i', timestamp)[0]\n",
    "        length = struct.unpack('>i', f.read(4))[0]\n",
    "        bytearray = f.read(length)\n",
    "        packets.append(\n",
    "            Packet(\n",
    "                timestamp=timestamp,\n",
    "                length=length,\n",
    "                bytearray=bytearray\n",
    "            )\n",
    "        )"
   ]
  },
  {
   "cell_type": "code",
   "execution_count": 16,
   "metadata": {},
   "outputs": [],
   "source": [
    "#skip first packet because its a login success packet\n",
    "packets = packets[1:]"
   ]
  },
  {
   "cell_type": "code",
   "execution_count": 17,
   "metadata": {},
   "outputs": [],
   "source": [
    "#read the protocol for 1.8\n",
    "#Protocol 47 \n",
    "#JSON from https://github.com/PrismarineJS/minecraft-data/blob/master/data/pc/1.8/protocol.json\n",
    "protocol = json.load(open('./data/protocol.json', 'r'))"
   ]
  },
  {
   "cell_type": "code",
   "execution_count": 18,
   "metadata": {},
   "outputs": [],
   "source": [
    "#function to read specific type of integer from minecraft\n",
    "#variable length integer \n",
    "def read_var_int(b):\n",
    "    byte = b.read(1)\n",
    "    if not byte:\n",
    "        return None\n",
    "    value = ord(byte)\n",
    "    if value <= 127:\n",
    "        return value\n",
    "    value, shift, quantum = value & 0x7f, 7, value\n",
    "    while 1:\n",
    "        byte = b.read(1)\n",
    "        if not byte:\n",
    "            return None\n",
    "        quantum = ord(byte)\n",
    "        value, shift = value + ((quantum & 0x7f) << shift), shift + 7\n",
    "        if not quantum & 0x80:\n",
    "            break\n",
    "    return value"
   ]
  },
  {
   "cell_type": "code",
   "execution_count": 19,
   "metadata": {},
   "outputs": [],
   "source": [
    "#json dict of packet name and the make up of the packet\n",
    "packet_json = protocol['play']['toClient']['types']"
   ]
  },
  {
   "cell_type": "code",
   "execution_count": 20,
   "metadata": {},
   "outputs": [],
   "source": [
    "#creates a mapping between id numbers and names of packets\n",
    "\n",
    "#gets the mappings from the protocol\n",
    "packet_types = packet_json['packet'][1][0]['type'][1]['mappings']\n",
    "\n",
    "#adds packet_ in front of it to work with the keys of packet_json\n",
    "packet_types_values = [\"packet_\"+x for x in list(packet_types.values())]\n",
    "\n",
    "#converts the hex string ids to numbers\n",
    "packet_types_keys = [int(x, 16) for x in list(packet_types.keys())]\n",
    "\n",
    "#creates a dictionary of them\n",
    "packet_types = dict(zip(packet_types_keys, packet_types_values))"
   ]
  },
  {
   "cell_type": "code",
   "execution_count": 21,
   "metadata": {},
   "outputs": [],
   "source": [
    "#possible functions needed to read data \n",
    "def read_entity_meta_data():\n",
    "    pass\n",
    "def read_slot_data():\n",
    "    pass\n",
    "def read_NBT_data():\n",
    "    pass\n",
    "def read_chunk_data():\n",
    "    pass"
   ]
  },
  {
   "cell_type": "code",
   "execution_count": 22,
   "metadata": {},
   "outputs": [],
   "source": [
    "#classifies the packet and removes the id byte and modifies length accordingly\n",
    "for i, packet in enumerate(packets):\n",
    "    packet.type = packet_types[packet.bytearray[0]]\n",
    "    packet.id = packet.bytearray[0]\n",
    "    packet.bytearray = packet.bytearray[1:]\n",
    "    packet.length-=1"
   ]
  },
  {
   "cell_type": "code",
   "execution_count": null,
   "metadata": {},
   "outputs": [],
   "source": []
  }
 ],
 "metadata": {
  "interpreter": {
   "hash": "fa706d29148685102f4d2caf4b4a1631bca60a8faf710f50a41d3fdd530c8e64"
  },
  "kernelspec": {
   "display_name": "Python 3.9.6 64-bit ('reg': conda)",
   "language": "python",
   "name": "python3"
  },
  "language_info": {
   "codemirror_mode": {
    "name": "ipython",
    "version": 3
   },
   "file_extension": ".py",
   "mimetype": "text/x-python",
   "name": "python",
   "nbconvert_exporter": "python",
   "pygments_lexer": "ipython3",
   "version": "3.9.6"
  },
  "orig_nbformat": 4
 },
 "nbformat": 4,
 "nbformat_minor": 2
}
